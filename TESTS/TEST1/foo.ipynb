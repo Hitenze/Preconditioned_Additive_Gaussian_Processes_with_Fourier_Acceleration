{
 "cells": [
  {
   "cell_type": "markdown",
   "metadata": {},
   "source": [
    "Please add path (copy from environment.sh) to the second code block to run the code."
   ]
  },
  {
   "cell_type": "code",
   "execution_count": null,
   "metadata": {},
   "outputs": [],
   "source": [
    "import os\n",
    "import subprocess\n",
    "\n",
    "import numpy as np"
   ]
  },
  {
   "cell_type": "code",
   "execution_count": null,
   "metadata": {},
   "outputs": [],
   "source": [
    "\n",
    "original_ld_path = os.environ.get(\"LD_LIBRARY_PATH\", \"\")\n",
    "# copy path from environment.sh here\n",
    "new_ld_path = original_ld_path + \n",
    "new_ld_path += \n",
    "new_ld_path += \n",
    "os.environ[\"LD_LIBRARY_PATH\"] = new_ld_path \n"
   ]
  },
  {
   "cell_type": "code",
   "execution_count": null,
   "metadata": {},
   "outputs": [],
   "source": [
    "\n",
    "def run_with_l_g(f = 1.0, l = 1.0, mu = 1.0, name = 'bike'):\n",
    "   result = subprocess.run(\"./foo.ex ./data/\" + name + \" ./data/\" + name + \".m.window 3000 0 \" + str(f) + \" \" + str(l) + \" \" + str(mu) + \" 906 1\", shell=True, capture_output=True, text=True)\n",
    "   lines = result.stdout.splitlines()\n",
    "   line1 = lines[-5].split(\" \")\n",
    "   err = float(line1[-1])\n",
    "   line2 = lines[-1].split(\" \")\n",
    "   derr = float(line2[-1])\n",
    "   return err, derr\n"
   ]
  },
  {
   "cell_type": "code",
   "execution_count": null,
   "metadata": {},
   "outputs": [],
   "source": [
    "def run_with_l_m(f = 1.0, l = 1.0, mu = 1.0, name = 'bike'):\n",
    "   result = subprocess.run(\"./foo.ex ./data/\" + name + \" ./data/\" + name + \".m.window 3000 1 \" + str(f) + \" \" + str(l) + \" \" + str(mu) + \" 906 1\", shell=True, capture_output=True, text=True)\n",
    "   lines = result.stdout.splitlines()\n",
    "   line1 = lines[-5].split(\" \")\n",
    "   err = float(line1[-1])\n",
    "   line2 = lines[-1].split(\" \")\n",
    "   derr = float(line2[-1])\n",
    "   return err, derr"
   ]
  },
  {
   "cell_type": "code",
   "execution_count": null,
   "metadata": {},
   "outputs": [],
   "source": [
    "\n",
    "f = 1.0\n",
    "mu = 0.01\n"
   ]
  },
  {
   "cell_type": "code",
   "execution_count": null,
   "metadata": {},
   "outputs": [],
   "source": [
    "\n",
    "ls = np.linspace(-2, 2, 20)\n",
    "ls = np.power(10, ls)\n",
    "\n",
    "datas = ['bike', 'elevators', 'poletele']\n",
    "\n",
    "ndata = len(datas)\n",
    "ntests = len(ls)\n"
   ]
  },
  {
   "cell_type": "code",
   "execution_count": null,
   "metadata": {},
   "outputs": [],
   "source": [
    "\n",
    "errs_g = np.zeros((ndata, ntests))\n",
    "derrs_g = np.zeros((ndata, ntests))\n",
    "errs_m = np.zeros((ndata, ntests))\n",
    "derrs_m = np.zeros((ndata, ntests))\n",
    "\n",
    "for i in range(ndata):\n",
    "   data = datas[i]\n",
    "   print(data)\n",
    "   for j in range(ntests):\n",
    "      l = ls[j]\n",
    "      errs_g[i, j], derrs_g[i, j] = run_with_l_g(l = l, name = data)\n",
    "      errs_m[i, j], derrs_m[i, j] = run_with_l_m(l = l, name = data)"
   ]
  },
  {
   "cell_type": "code",
   "execution_count": null,
   "metadata": {},
   "outputs": [],
   "source": [
    "# save as npz\n",
    "np.savez('foo.npz', errs_g=errs_g, derrs=derrs_g, errs_m=errs_m, derrs_m=derrs_m)"
   ]
  },
  {
   "cell_type": "code",
   "execution_count": null,
   "metadata": {},
   "outputs": [],
   "source": [
    "np.set_printoptions(linewidth=np.inf)"
   ]
  },
  {
   "cell_type": "code",
   "execution_count": null,
   "metadata": {},
   "outputs": [],
   "source": [
    "with open(\"foo1.txt\", 'w') as f:\n",
    "   print(\"l \" + \" \".join([\"%s_g\" % item for item in datas]) + \" \" + \" \".join([\"%s_m\" % item for item in datas]) + \" \", file = f)\n",
    "   for i in range(ntests):\n",
    "      stri_g = np.array2string(errs_g[:,i], separator=' ', formatter={'float_kind':lambda x: \"%24.20f\" % x})\n",
    "      stri_m = np.array2string(errs_m[:,i], separator=' ', formatter={'float_kind':lambda x: \"%24.20f\" % x})\n",
    "      \n",
    "      print(str(ls[i]) + \" \" + stri_g[1:-2] + \" \" + stri_m[1:-2] + \" \", file = f) "
   ]
  },
  {
   "cell_type": "code",
   "execution_count": null,
   "metadata": {},
   "outputs": [],
   "source": [
    "with open(\"foo2.txt\", 'w') as f:\n",
    "   print(\"l \" + \" \".join([\"%s_g\" % item for item in datas]) + \" \" + \" \".join([\"%s_m\" % item for item in datas]) + \" \", file = f)\n",
    "   for i in range(ntests):\n",
    "      stri_g = np.array2string(derrs_g[:,i], separator=' ', formatter={'float_kind':lambda x: \"%24.20f\" % x})\n",
    "      stri_m = np.array2string(derrs_m[:,i], separator=' ', formatter={'float_kind':lambda x: \"%24.20f\" % x})\n",
    "      print(str(ls[i]) + \" \" + stri_g[1:-2] + \" \" + stri_m[1:-2] + \" \", file = f) "
   ]
  }
 ],
 "metadata": {
  "kernelspec": {
   "display_name": "default",
   "language": "python",
   "name": "python3"
  },
  "language_info": {
   "codemirror_mode": {
    "name": "ipython",
    "version": 3
   },
   "file_extension": ".py",
   "mimetype": "text/x-python",
   "name": "python",
   "nbconvert_exporter": "python",
   "pygments_lexer": "ipython3",
   "version": "3.10.11"
  }
 },
 "nbformat": 4,
 "nbformat_minor": 2
}
